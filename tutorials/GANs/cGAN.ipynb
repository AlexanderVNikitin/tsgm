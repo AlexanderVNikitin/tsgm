{
 "cells": [
  {
   "cell_type": "code",
   "execution_count": null,
   "id": "4fc34219",
   "metadata": {},
   "outputs": [],
   "source": [
    "%load_ext autoreload\n",
    "%autoreload 2\n",
    "\n",
    "import numpy as np\n",
    "\n",
    "import matplotlib.pyplot as plt"
   ]
  },
  {
   "cell_type": "code",
   "execution_count": null,
   "id": "10e3e196",
   "metadata": {},
   "outputs": [],
   "source": [
    "from tensorflow import keras\n",
    "from tensorflow.keras import layers\n",
    "\n",
    "import tensorflow as tf\n",
    "\n",
    "import tsgm"
   ]
  },
  {
   "cell_type": "markdown",
   "id": "843de5f0",
   "metadata": {},
   "source": [
    "We want to generate a temporal dataset where each time series belongs to one of two classes. Let's go step by step through the solution.\n",
    "\n",
    "#### 1. Define parameters of GAN:\n",
    "First, we are defining the parameters of GAN, and the training algorithm.\n",
    "- `latent_dim` is the size of input noise in GAN,\n",
    "- `output_dim` is the number of classes, which, mentioned above is two,\n",
    "- `feature_dim` is the number of time series features,\n",
    "- `seq_len` is the length of the time series."
   ]
  },
  {
   "cell_type": "code",
   "execution_count": null,
   "id": "c0b9d254",
   "metadata": {},
   "outputs": [],
   "source": [
    "latent_dim = 64\n",
    "output_dim = 2\n",
    "feature_dim = 1\n",
    "seq_len = 100\n",
    "batch_size = 128\n",
    "\n",
    "\n",
    "generator_in_channels = latent_dim + output_dim\n",
    "discriminator_in_channels = feature_dim + output_dim"
   ]
  },
  {
   "cell_type": "markdown",
   "id": "8df8281b",
   "metadata": {},
   "source": [
    "#### 2. Load data:\n",
    "We are working with a toy dataset, and use `tsgm` utility called `tsgm.utils.gen_sine_vs_const_dataset` to generate the data. Next, we featurewise scale the dataset so that each feature is in $[-1, 1]$, using `tsgm.utils.TSFeatureWiseScaler`."
   ]
  },
  {
   "cell_type": "code",
   "execution_count": null,
   "id": "18694aeb",
   "metadata": {},
   "outputs": [],
   "source": [
    "X, y_i = tsgm.utils.gen_sine_vs_const_dataset(5_000, seq_len, 1, max_value=20, const=10)\n",
    "\n",
    "scaler = tsgm.utils.TSFeatureWiseScaler((-1, 1))\n",
    "X_train = scaler.fit_transform(X)\n",
    "y = keras.utils.to_categorical(y_i, 2)\n",
    "\n",
    "X_train = X_train.astype(np.float32)\n",
    "y = y.astype(np.float32)\n",
    "\n",
    "dataset = tf.data.Dataset.from_tensor_slices((X_train, y))\n",
    "dataset = dataset.shuffle(buffer_size=1024).batch(batch_size)"
   ]
  },
  {
   "cell_type": "markdown",
   "id": "cfe2ee0f",
   "metadata": {},
   "source": [
    "#### 3. Visually explore the dataset.\n",
    "There are many tools for convenient visualizations of temporal datasets. Here, we use `tsgm.utils.visualize_ts_lineplot`, which is convenient for TS classification datasets."
   ]
  },
  {
   "cell_type": "code",
   "execution_count": null,
   "id": "bb6c55dc",
   "metadata": {
    "scrolled": true
   },
   "outputs": [],
   "source": [
    "tsgm.utils.visualize_ts_lineplot(X_train, y_i)"
   ]
  },
  {
   "cell_type": "markdown",
   "id": "0cf919b3",
   "metadata": {},
   "source": [
    "#### 4. Choose architecture.\n",
    "Here, you can either use one of the architectures presented in `tsgm.models.architectures`, or define custom discriminator and generator architectures as `tf` models."
   ]
  },
  {
   "cell_type": "code",
   "execution_count": null,
   "id": "d67b52d1",
   "metadata": {},
   "outputs": [],
   "source": [
    "architecture = tsgm.models.architectures.zoo[\"cgan_base_c4_l1\"](\n",
    "    seq_len=seq_len, feat_dim=feature_dim,\n",
    "    latent_dim=latent_dim, output_dim=output_dim)\n",
    "discriminator, generator = architecture.discriminator, architecture.generator"
   ]
  },
  {
   "cell_type": "markdown",
   "id": "a0f669d4",
   "metadata": {},
   "source": [
    "#### 5. Define model and train it.\n",
    "We define conditional GAN model (`tsgm.models.cgan.ConditionalGAN`), compile it (here, you can choose different optimizers for discriminator and generator), and train using `.fit` model. Additionally, we use `tsgm.models.monitors.GANMonitor` to track training process."
   ]
  },
  {
   "cell_type": "code",
   "execution_count": null,
   "id": "34d5bfa4",
   "metadata": {},
   "outputs": [],
   "source": [
    "cond_gan = tsgm.models.cgan.ConditionalGAN(\n",
    "    discriminator=discriminator, generator=generator, latent_dim=latent_dim\n",
    ")\n",
    "cond_gan.compile(\n",
    "    d_optimizer=keras.optimizers.Adam(learning_rate=0.0002, beta_1=0.5),\n",
    "    g_optimizer=keras.optimizers.Adam(learning_rate=0.0002, beta_1=0.5),\n",
    "    loss_fn=keras.losses.BinaryCrossentropy(),\n",
    ")\n",
    "\n",
    "cbk = tsgm.models.monitors.GANMonitor(num_samples=3, latent_dim=latent_dim, save=False, labels=y, save_path=\"/tmp\")\n",
    "cond_gan.fit(dataset, epochs=1000, callbacks=[cbk])"
   ]
  },
  {
   "cell_type": "markdown",
   "id": "c0252943",
   "metadata": {},
   "source": [
    "#### 6. Visualize the results.\n",
    "Now, we can generate samples from the model, and visualize them. A convinient way to visualize them is to use [t-SNE](https://en.wikipedia.org/wiki/T-distributed_stochastic_neighbor_embedding) via `tsgm.utils.visualize_tsne`."
   ]
  },
  {
   "cell_type": "code",
   "execution_count": null,
   "id": "b76db96f",
   "metadata": {},
   "outputs": [],
   "source": [
    "limit = 500\n",
    "X_gen = cond_gan.generate(y[:limit])\n",
    "X_gen = X_gen.numpy()\n",
    "y_gen = y[:limit]"
   ]
  },
  {
   "cell_type": "code",
   "execution_count": null,
   "id": "19d931d6",
   "metadata": {},
   "outputs": [],
   "source": [
    "tsgm.utils.visualize_tsne(X_train[:limit], y[:limit], X_gen, y_gen)"
   ]
  }
 ],
 "metadata": {
  "kernelspec": {
   "display_name": "Python 3 (ipykernel)",
   "language": "python",
   "name": "python3"
  },
  "language_info": {
   "codemirror_mode": {
    "name": "ipython",
    "version": 3
   },
   "file_extension": ".py",
   "mimetype": "text/x-python",
   "name": "python",
   "nbconvert_exporter": "python",
   "pygments_lexer": "ipython3",
   "version": "3.10.8"
  }
 },
 "nbformat": 4,
 "nbformat_minor": 5
}
