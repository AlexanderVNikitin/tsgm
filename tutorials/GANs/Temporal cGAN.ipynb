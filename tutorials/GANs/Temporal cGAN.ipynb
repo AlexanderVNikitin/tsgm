{
 "cells": [
  {
   "cell_type": "markdown",
   "id": "a35d46d2",
   "metadata": {},
   "source": [
    "# Tutorial temporal conditional GANs"
   ]
  },
  {
   "cell_type": "code",
   "execution_count": null,
   "id": "8c96e4c7",
   "metadata": {},
   "outputs": [],
   "source": [
    "%load_ext autoreload\n",
    "%autoreload 2\n",
    "\n",
    "from tensorflow import keras\n",
    "from tensorflow.keras import layers\n",
    "\n",
    "import tensorflow as tf\n",
    "import numpy as np\n",
    "\n",
    "import matplotlib.pyplot as plt\n",
    "import seaborn as sns"
   ]
  },
  {
   "cell_type": "code",
   "execution_count": null,
   "id": "5bbcc6a3",
   "metadata": {},
   "outputs": [],
   "source": [
    "import tsgm"
   ]
  },
  {
   "cell_type": "markdown",
   "id": "b777c2af",
   "metadata": {},
   "source": [
    "We want to generate a temporal dataset where each time series belongs to one of two classes. Let's go step by step through the solution.\n",
    "\n",
    "#### 1. Define parameters of GAN:\n",
    "First, we are defining the parameters of GAN, and the training algorithm.\n",
    "- `latent_dim` is the size of input noise in GAN,\n",
    "- `output_dim` is the number of classes, which, mentioned above is two,\n",
    "- `feature_dim` is the number of time series features,\n",
    "- `seq_len` is the length of the time series."
   ]
  },
  {
   "cell_type": "code",
   "execution_count": null,
   "id": "882424d7",
   "metadata": {},
   "outputs": [],
   "source": [
    "batch_size = 128\n",
    "\n",
    "latent_dim = 1\n",
    "feature_dim = 1\n",
    "seq_len = 123\n",
    "output_dim = 1\n",
    "\n",
    "generator_in_channels = latent_dim + output_dim\n",
    "discriminator_in_channels = feature_dim + output_dim\n"
   ]
  },
  {
   "cell_type": "markdown",
   "id": "dd5ebe5c",
   "metadata": {},
   "source": [
    "#### 2. Choose architecture.\n",
    "Here, you can either use one of the architectures presented in `tsgm.models.architectures`, or define custom discriminator and generator architectures as `tf` models."
   ]
  },
  {
   "cell_type": "code",
   "execution_count": null,
   "id": "f179ecd6",
   "metadata": {},
   "outputs": [],
   "source": [
    "architecture = tsgm.models.architectures.zoo[\"t-cgan_c4\"](\n",
    "    seq_len=seq_len, feat_dim=feature_dim,\n",
    "    latent_dim=latent_dim, output_dim=output_dim)\n",
    "discriminator, generator = architecture.discriminator, architecture.generator\n"
   ]
  },
  {
   "cell_type": "markdown",
   "id": "37a3d4c6",
   "metadata": {},
   "source": [
    "#### 3. Load data:\n",
    "We are working with a toy dataset, and use `tsgm` utility called `tsgm.utils.gen_sine_const_switch_dataset` to generate the data. Next, we featurewise scale the dataset so that each feature is in $[-1, 1]$, using `tsgm.utils.TSFeatureWiseScaler`."
   ]
  },
  {
   "cell_type": "code",
   "execution_count": null,
   "id": "aa869807",
   "metadata": {},
   "outputs": [],
   "source": [
    "X, y = tsgm.utils.gen_sine_const_switch_dataset(50_000, seq_len, 1, max_value=20, const=10)\n",
    "\n",
    "scaler = tsgm.utils.TSFeatureWiseScaler((-1, 1))\n",
    "X_train = scaler.fit_transform(X)\n",
    "\n",
    "\n",
    "X_train = X_train.astype(np.float32)\n",
    "y = y.astype(np.float32)\n",
    "\n",
    "dataset = tf.data.Dataset.from_tensor_slices((X_train, y))\n",
    "dataset = dataset.shuffle(buffer_size=1024).batch(batch_size)\n"
   ]
  },
  {
   "cell_type": "markdown",
   "id": "ee012acb",
   "metadata": {},
   "source": [
    "#### 4. Define model and train it.\n",
    "We define conditional GAN model (`tsgm.models.cgan.ConditionalGAN`), compile it (here, you can choose different optimizers for discriminator and generator), and train using `.fit` model."
   ]
  },
  {
   "cell_type": "code",
   "execution_count": null,
   "id": "5da1c3ec",
   "metadata": {
    "scrolled": true
   },
   "outputs": [],
   "source": [
    "cond_gan = tsgm.models.cgan.ConditionalGAN(\n",
    "    discriminator=discriminator, generator=generator, latent_dim=latent_dim,\n",
    "    temporal=True,\n",
    ")\n",
    "cond_gan.compile(\n",
    "    d_optimizer=keras.optimizers.Adam(learning_rate=0.0001, beta_1=0.5),\n",
    "    g_optimizer=keras.optimizers.Adam(learning_rate=0.0001, beta_1=0.5),\n",
    "    loss_fn=keras.losses.BinaryCrossentropy(),\n",
    ")\n",
    "\n",
    "cond_gan.fit(dataset, epochs=1)\n"
   ]
  },
  {
   "cell_type": "markdown",
   "id": "6e8566e1",
   "metadata": {},
   "source": [
    "#### 5. Visually explore the dataset.\n",
    "There are many tools for convenient visualizations of temporal datasets. Here, we use `tsgm.utils.visualize_ts_lineplot`, which is convenient for TS classification datasets."
   ]
  },
  {
   "cell_type": "code",
   "execution_count": null,
   "id": "07f694b1",
   "metadata": {},
   "outputs": [],
   "source": [
    "tsgm.utils.visualize_ts_lineplot(X_train, y, 5)\n",
    "plt.savefig(\"data_temporal_gan.pdf\", bbox_inches='tight')"
   ]
  },
  {
   "cell_type": "code",
   "execution_count": null,
   "id": "bd598d82",
   "metadata": {},
   "outputs": [],
   "source": [
    "n_samples = 5\n",
    "\n",
    "tmp_latent = tf.random.normal(shape=(n_samples, seq_len, latent_dim))\n",
    "random_vector_labels = tf.concat(\n",
    "    [tmp_latent, y[:n_samples, :, None]], axis=2\n",
    ")\n",
    "\n",
    "generated_images = cond_gan.generator(random_vector_labels)"
   ]
  },
  {
   "cell_type": "code",
   "execution_count": null,
   "id": "d22e5c50",
   "metadata": {},
   "outputs": [],
   "source": [
    "tsgm.utils.visualize_ts_lineplot(generated_images, y, 5)\n",
    "plt.savefig(\"synth_data_temporal_gan.pdf\", bbox_inches='tight')"
   ]
  }
 ],
 "metadata": {
  "kernelspec": {
   "display_name": "Python 3 (ipykernel)",
   "language": "python",
   "name": "python3"
  },
  "language_info": {
   "codemirror_mode": {
    "name": "ipython",
    "version": 3
   },
   "file_extension": ".py",
   "mimetype": "text/x-python",
   "name": "python",
   "nbconvert_exporter": "python",
   "pygments_lexer": "ipython3",
   "version": "3.9.12"
  }
 },
 "nbformat": 4,
 "nbformat_minor": 5
}
