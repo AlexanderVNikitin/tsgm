{
 "cells": [
  {
   "cell_type": "code",
   "execution_count": null,
   "id": "894bcc83",
   "metadata": {},
   "outputs": [],
   "source": [
    "%load_ext autoreload\n",
    "%autoreload 2\n",
    "\n",
    "import functools\n",
    "import numpy as np\n",
    "\n",
    "from tensorflow import keras\n",
    "from tensorflow.keras import layers\n",
    "\n",
    "import tensorflow as tf\n",
    "import tensorflow_privacy as tf_privacy\n",
    "\n",
    "import tsgm\n",
    "\n",
    "import matplotlib.pyplot as plt"
   ]
  },
  {
   "cell_type": "markdown",
   "id": "dbebba63",
   "metadata": {},
   "source": [
    "# Notes\n",
    "\n",
    "## Idea\n",
    "- standard GANs for time series generation with recurrent architectures,\n",
    "- decoder loss average cross-entropy between sequences:\n",
    "$$\\mathrm{D}_{\\text {loss }}\\left(X_{n}, \\mathbf{y}_{n}\\right)=-\\mathrm{CE}\\left(\\mathrm{RNN}_{\\mathrm{D}}\\left(X_{n}\\right), \\mathbf{y}_{n}\\right)$$\n",
    "\n",
    "- generator tries to trick the descriminator, and its loss:\n",
    "$$\\mathrm{G}_{\\mathrm{loss}}\\left(Z_{n}\\right)=\\mathrm{D}_{\\mathrm{loss}}\\left(\\mathrm{RNN}_{\\mathrm{G}}\\left(Z_{n}\\right), \\mathbf{1}\\right)=-\\mathrm{CE}\\left(\\mathrm{RNN}_{\\mathrm{D}}\\left(\\mathrm{RNN}_{\\mathrm{G}}\\left(Z_{n}\\right)\\right), \\mathbf{1}\\right)$$\n",
    "\n",
    "- in conditional GANs, class labels are concatenated to latent vectors:\n",
    "$$\\mathbf{Z}_{n t} \\rightarrow\\left[\\mathbf{Z}_{n t} ; \\mathbf{c}_{n}\\right] \\quad \\mathbf{x}_{n t} \\rightarrow\\left[\\mathbf{x}_{n t} ; \\mathbf{c}_{n}\\right]$$\n",
    "\n",
    "\n",
    "## Evaluation\n",
    "- MMD ($V$ is the asymptotic variance of $\\text{MMD}^2$):\n",
    "$${\\widehat{\\mathrm{MMD}_{u}}}^{2}=\\frac{1}{n(n-1)} \\sum_{i=1}^{n} \\sum_{j \\neq i}^{n} K\\left(x_{i}, x_{j}\\right)-\\frac{2}{m n} \\sum_{i=1}^{n} \\sum_{j=1}^{m} K\\left(x_{i}, y_{j}\\right)+\\frac{1}{m(m-1)} \\sum_{i=1}^{m} \\sum_{j \\neq i}^{m} K\\left(y_{i}, y_{j}\\right)$$\n",
    "$$\\hat{t}=\\frac{\\widehat{\\mathrm{MMD}}^{2}}{\\sqrt{\\hat{V}}}$$\n",
    "- train on synthetic, test on real (TSTR)\n",
    "- train on real, test on synthetic (TRTS)\n",
    "\n",
    "## Experiments\n",
    "- Sine Waves\n",
    "- Smooth functions (Samples from GPs)\n",
    "- MNIST as a time-series\n",
    "- ICU data"
   ]
  },
  {
   "cell_type": "code",
   "execution_count": null,
   "id": "4825396d",
   "metadata": {},
   "outputs": [],
   "source": [
    "latent_dim = 64\n",
    "output_dim = 2\n",
    "feature_dim = 1\n",
    "seq_len = 100\n",
    "batch_size = 128\n",
    "\n",
    "\n",
    "generator_in_channels = latent_dim + output_dim\n",
    "discriminator_in_channels = feature_dim + output_dim"
   ]
  },
  {
   "cell_type": "code",
   "execution_count": null,
   "id": "d0e7b24f",
   "metadata": {},
   "outputs": [],
   "source": [
    "X, y_i = tsgm.utils.gen_sine_vs_const_dataset(5_000, seq_len, 1, max_value=20, const=10)\n",
    "\n",
    "scaler = tsgm.utils.TSFeatureWiseScaler((-1, 1))\n",
    "X_train = scaler.fit_transform(X)\n",
    "y = keras.utils.to_categorical(y_i, 2)\n",
    "\n",
    "X_train = X_train.astype(np.float32)\n",
    "y = y.astype(np.float32)\n",
    "\n",
    "dataset = tf.data.Dataset.from_tensor_slices((X_train, y))\n",
    "dataset = dataset.shuffle(buffer_size=1024).batch(batch_size)"
   ]
  },
  {
   "cell_type": "code",
   "execution_count": null,
   "id": "c77be52c",
   "metadata": {},
   "outputs": [],
   "source": [
    "tsgm.utils.visualize_ts_lineplot(X_train, y_i, num=2)"
   ]
  },
  {
   "cell_type": "code",
   "execution_count": null,
   "id": "9b19b8f7",
   "metadata": {},
   "outputs": [],
   "source": [
    "architecture = tsgm.models.architectures.cGAN_LSTMnArchitecture(\n",
    "    seq_len=seq_len, feat_dim=feature_dim,\n",
    "    latent_dim=latent_dim, output_dim=output_dim)\n",
    "discriminator, generator = architecture._discriminator, architecture._generator"
   ]
  },
  {
   "cell_type": "code",
   "execution_count": null,
   "id": "9a3f82dd",
   "metadata": {},
   "outputs": [],
   "source": [
    "architecture._discriminator.summary()"
   ]
  },
  {
   "cell_type": "code",
   "execution_count": null,
   "id": "d1c620d5",
   "metadata": {},
   "outputs": [],
   "source": [
    "architecture._generator.summary()"
   ]
  },
  {
   "cell_type": "code",
   "execution_count": null,
   "id": "f9b05ec9",
   "metadata": {},
   "outputs": [],
   "source": [
    "cond_gan = tsgm.models.cgan.ConditionalGAN(\n",
    "    discriminator=discriminator, generator=generator, latent_dim=latent_dim\n",
    ")\n",
    "cond_gan.compile(\n",
    "    d_optimizer=keras.optimizers.Adam(learning_rate=0.0002, beta_1=0.5),\n",
    "    g_optimizer=keras.optimizers.Adam(learning_rate=0.0002, beta_1=0.5),\n",
    "    loss_fn=keras.losses.BinaryCrossentropy(),\n",
    ")\n",
    "\n",
    "cbk = tsgm.models.monitors.GANMonitor(num_samples=3, latent_dim=latent_dim, save=False, save_path=\"/tmp\", labels=y)\n",
    "cond_gan.fit(dataset, epochs=2, callbacks=[cbk])"
   ]
  },
  {
   "cell_type": "code",
   "execution_count": null,
   "id": "add11593",
   "metadata": {},
   "outputs": [],
   "source": [
    "X_gen = cond_gan.generate(y)"
   ]
  },
  {
   "cell_type": "code",
   "execution_count": null,
   "id": "71d023ea",
   "metadata": {},
   "outputs": [],
   "source": [
    "statistics = [functools.partial(tsgm.metrics.statistics.axis_max_s, axis=1),\n",
    "              functools.partial(tsgm.metrics.statistics.axis_min_s, axis=1)]\n",
    "\n",
    "sim_metric = tsgm.metrics.DistanceMetric(\n",
    "    statistics=statistics, discrepancy=lambda x, y: np.linalg.norm(x - y)\n",
    ")\n",
    "\n",
    "print(f\"Distance metric: {sim_metric(X, X_gen)}\")"
   ]
  },
  {
   "cell_type": "markdown",
   "id": "d0e8428b",
   "metadata": {},
   "source": [
    "## Privacy preserving RCGAN"
   ]
  },
  {
   "cell_type": "code",
   "execution_count": null,
   "id": "2083a6ec",
   "metadata": {},
   "outputs": [],
   "source": [
    "l2_norm_clip = 1.5\n",
    "noise_multiplier = 1.3\n",
    "num_microbatches = 1\n",
    "learning_rate = 0.01\n",
    "\n",
    "\n",
    "d_optimizer = tf_privacy.DPKerasSGDOptimizer(\n",
    "    l2_norm_clip=l2_norm_clip,\n",
    "    noise_multiplier=noise_multiplier,\n",
    "    num_microbatches=num_microbatches,\n",
    "    learning_rate=learning_rate\n",
    ")\n",
    "\n",
    "\n",
    "g_optimizer = tf_privacy.DPKerasSGDOptimizer(\n",
    "    l2_norm_clip=l2_norm_clip,\n",
    "    noise_multiplier=noise_multiplier,\n",
    "    num_microbatches=num_microbatches,\n",
    "    learning_rate=learning_rate\n",
    ")"
   ]
  },
  {
   "cell_type": "code",
   "execution_count": null,
   "id": "1f803110",
   "metadata": {},
   "outputs": [],
   "source": [
    "cond_gan = tsgm.models.cgan.ConditionalGAN(\n",
    "    discriminator=discriminator, generator=generator, latent_dim=latent_dim\n",
    ")\n",
    "cond_gan.compile(\n",
    "    d_optimizer=d_optimizer,\n",
    "    g_optimizer=g_optimizer,\n",
    "    loss_fn=keras.losses.BinaryCrossentropy(),\n",
    ")\n",
    "\n",
    "cbk = tsgm.models.monitors.GANMonitor(num_samples=3, latent_dim=latent_dim, save=False, save_path=\"/tmp\", labels=y)\n",
    "cond_gan.fit(dataset, epochs=2, callbacks=[cbk])"
   ]
  }
 ],
 "metadata": {
  "kernelspec": {
   "display_name": "Python 3 (ipykernel)",
   "language": "python",
   "name": "python3"
  },
  "language_info": {
   "codemirror_mode": {
    "name": "ipython",
    "version": 3
   },
   "file_extension": ".py",
   "mimetype": "text/x-python",
   "name": "python",
   "nbconvert_exporter": "python",
   "pygments_lexer": "ipython3",
   "version": "3.10.8"
  }
 },
 "nbformat": 4,
 "nbformat_minor": 5
}
