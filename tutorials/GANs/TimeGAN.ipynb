{
 "cells": [
  {
   "cell_type": "markdown",
   "id": "60611bed",
   "metadata": {},
   "source": [
    "## Time series generation using TimeGAN.\n",
    "This is a minimal example of unsupervised time series generation using TimeGAN."
   ]
  },
  {
   "cell_type": "code",
   "execution_count": null,
   "id": "6220fcdd",
   "metadata": {},
   "outputs": [],
   "source": [
    "%load_ext autoreload\n",
    "%autoreload 2\n",
    "\n",
    "import numpy as np\n",
    "import sklearn\n",
    "import copy\n",
    "import sklearn.model_selection\n",
    "import tensorflow as tf\n",
    "from tensorflow import keras\n",
    "from tensorflow.keras import layers\n",
    "\n",
    "import tsgm"
   ]
  },
  {
   "cell_type": "markdown",
   "id": "a375b04e",
   "metadata": {},
   "source": [
    "#### 1. Load data\n",
    "We are working with a toy dataset, and use `tsgm` utility called `tsgm.utils.gen_sine_dataset` to generate the data. Next, we featurewise scale the dataset so that each feature is in $[0, 1]$, using `tsgm.utils.TSFeatureWiseScaler`."
   ]
  },
  {
   "cell_type": "code",
   "execution_count": null,
   "id": "3da6d8eb",
   "metadata": {},
   "outputs": [],
   "source": [
    "data = tsgm.utils.gen_sine_dataset(10000, 24, 5)\n",
    "scaler = tsgm.utils.TSFeatureWiseScaler()        \n",
    "scaled_data = scaler.fit_transform(data)"
   ]
  },
  {
   "cell_type": "markdown",
   "id": "b76dd508",
   "metadata": {},
   "source": [
    "#### 2. Define model and train it\n",
    "We define a TimeGAN model (`tsgm.models.timeGAN.TimeGAN`), compile it, and train using `.fit` model."
   ]
  },
  {
   "cell_type": "code",
   "execution_count": null,
   "id": "ae0de98f",
   "metadata": {},
   "outputs": [],
   "source": [
    "model = tsgm.models.timeGAN.TimeGAN(\n",
    "    seq_len=24,\n",
    "    module=\"gru\",\n",
    "    hidden_dim=24,\n",
    "    n_features=5,\n",
    "    n_layers=3,\n",
    "    batch_size=256,\n",
    "    gamma=1.0,\n",
    ")\n",
    "# .compile() sets all optimizers to Adam by default\n",
    "model.compile()\n",
    "\n",
    "model.fit(\n",
    "    data=scaled_data,\n",
    "    epochs=100,\n",
    ")"
   ]
  },
  {
   "cell_type": "markdown",
   "id": "7eb7f14d",
   "metadata": {},
   "source": [
    "#### 3. Generate synthetic data\n"
   ]
  },
  {
   "cell_type": "code",
   "execution_count": null,
   "id": "d8be86ca",
   "metadata": {},
   "outputs": [],
   "source": [
    "new_x = model.generate(n_samples=10)\n",
    "# synthetic data have shape (n_samples, sequence_lenght, n_features)\n",
    "new_x.shape"
   ]
  }
 ],
 "metadata": {
  "kernelspec": {
   "display_name": "Python 3 (ipykernel)",
   "language": "python",
   "name": "python3"
  },
  "language_info": {
   "codemirror_mode": {
    "name": "ipython",
    "version": 3
   },
   "file_extension": ".py",
   "mimetype": "text/x-python",
   "name": "python",
   "nbconvert_exporter": "python",
   "pygments_lexer": "ipython3",
   "version": "3.9.12"
  }
 },
 "nbformat": 4,
 "nbformat_minor": 5
}
