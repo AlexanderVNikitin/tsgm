{
 "cells": [
  {
   "metadata": {},
   "cell_type": "markdown",
   "source": [
    "# 1. Baseline\n",
    "classify for math and relax in synchronized_brainwave_dataset data"
   ],
   "id": "f4666ce8cbcbde16"
  },
  {
   "metadata": {
    "ExecuteTime": {
     "end_time": "2024-06-27T16:06:14.850086Z",
     "start_time": "2024-06-27T16:06:14.842922Z"
    }
   },
   "cell_type": "code",
   "source": [
    "import numpy as np\n",
    "import pandas as pd\n",
    "import tensorflow as tf\n",
    "from sklearn.model_selection import train_test_split\n",
    "from sklearn.preprocessing import LabelEncoder\n",
    "from tensorflow.keras.models import Sequential\n",
    "from tensorflow.keras.layers import Dense\n",
    "from tensorflow import keras\n",
    "import tsgm\n",
    "from tsgm.models.architectures.zoo import zoo  \n",
    "import ast\n",
    "%matplotlib inline"
   ],
   "id": "bfa03c740f88b2cf",
   "outputs": [],
   "execution_count": 131
  },
  {
   "metadata": {
    "ExecuteTime": {
     "end_time": "2024-06-27T14:13:01.605634Z",
     "start_time": "2024-06-27T14:13:00.884414Z"
    }
   },
   "cell_type": "code",
   "source": "X, y = tsgm.utils.get_synchronized_brainwave_dataset()",
   "id": "5f881b19b73f321e",
   "outputs": [
    {
     "name": "stderr",
     "output_type": "stream",
     "text": [
      "INFO:utils:File exist\n"
     ]
    }
   ],
   "execution_count": 68
  },
  {
   "metadata": {
    "ExecuteTime": {
     "end_time": "2024-06-27T12:22:25.067208Z",
     "start_time": "2024-06-27T12:22:25.062306Z"
    }
   },
   "cell_type": "code",
   "source": "X.shape",
   "id": "dcc46df65a801df9",
   "outputs": [
    {
     "data": {
      "text/plain": [
       "(30013, 12)"
      ]
     },
     "execution_count": 3,
     "metadata": {},
     "output_type": "execute_result"
    }
   ],
   "execution_count": 3
  },
  {
   "metadata": {
    "ExecuteTime": {
     "end_time": "2024-06-27T12:22:27.924038Z",
     "start_time": "2024-06-27T12:22:27.920191Z"
    }
   },
   "cell_type": "code",
   "source": "y.shape",
   "id": "900328101a606991",
   "outputs": [
    {
     "data": {
      "text/plain": [
       "(30013,)"
      ]
     },
     "execution_count": 4,
     "metadata": {},
     "output_type": "execute_result"
    }
   ],
   "execution_count": 4
  },
  {
   "metadata": {
    "ExecuteTime": {
     "end_time": "2024-06-27T14:13:04.386050Z",
     "start_time": "2024-06-27T14:13:03.650020Z"
    }
   },
   "cell_type": "code",
   "source": "df = pd.read_csv(\"../data/synchronized_brainwave_dataset.csv\")",
   "id": "a380d2f85b0a7235",
   "outputs": [],
   "execution_count": 69
  },
  {
   "metadata": {
    "ExecuteTime": {
     "end_time": "2024-06-27T14:13:04.405794Z",
     "start_time": "2024-06-27T14:13:04.390517Z"
    }
   },
   "cell_type": "code",
   "source": [
    "# we want to classify label 'relax' and 'math'\n",
    "relax = df[df.label == 'relax']\n",
    "math = df[(df.label == 'math1') |\n",
    "          (df.label == 'math2') |\n",
    "          (df.label == 'math3') |\n",
    "          (df.label == 'math4') |\n",
    "          (df.label == 'math5') |\n",
    "          (df.label == 'math6') |\n",
    "          (df.label == 'math7') |\n",
    "          (df.label == 'math8') |\n",
    "          (df.label == 'math9') |\n",
    "          (df.label == 'math10') |\n",
    "          (df.label == 'math11') |\n",
    "          (df.label == 'math12') ]\n",
    "\n",
    "print(len(relax))\n",
    "print(len(math))"
   ],
   "id": "c4a62977f983c13e",
   "outputs": [
    {
     "name": "stdout",
     "output_type": "stream",
     "text": [
      "934\n",
      "936\n"
     ]
    }
   ],
   "execution_count": 70
  },
  {
   "metadata": {
    "ExecuteTime": {
     "end_time": "2024-06-27T14:13:07.562480Z",
     "start_time": "2024-06-27T14:13:07.557639Z"
    }
   },
   "cell_type": "code",
   "source": "relax_math = pd.concat([relax, math], axis=0)",
   "id": "4f7830db118c92f8",
   "outputs": [],
   "execution_count": 71
  },
  {
   "metadata": {
    "ExecuteTime": {
     "end_time": "2024-06-27T14:13:16.681813Z",
     "start_time": "2024-06-27T14:13:15.701182Z"
    }
   },
   "cell_type": "code",
   "source": "relax_math['raw_values'] = relax_math['raw_values'].apply(ast.literal_eval)\n",
   "id": "8ec9a86b566b3d04",
   "outputs": [],
   "execution_count": 72
  },
  {
   "metadata": {
    "ExecuteTime": {
     "end_time": "2024-06-27T14:13:20.237134Z",
     "start_time": "2024-06-27T14:13:20.195199Z"
    }
   },
   "cell_type": "code",
   "source": [
    "# A signal values over 128 indicate that the headset was placed incorrectly.\n",
    "relax_math = relax_math[relax_math['signal_quality'] < 128]\n",
    "\n",
    "relax_math['label'] = relax_math['label'].str.replace(r'^math.*$', 'math', regex=True)\n",
    "\n",
    "relax_math['raw_values'] = relax_math['raw_values'].apply(lambda x: np.array(x, dtype=float))\n",
    "\n",
    "# Ensure all arrays have the same length\n",
    "max_len = max(relax_math['raw_values'].apply(len))\n",
    "relax_math['raw_values'] = relax_math['raw_values'].apply(lambda x: np.pad(x, (0, max_len - len(x)), 'constant') if len(x) < max_len else x)\n",
    "\n",
    "label_encoder = LabelEncoder()\n",
    "relax_math['label'] = label_encoder.fit_transform(relax_math['label'])\n",
    "\n",
    "features_matrix = np.stack(relax_math['raw_values'].values)\n"
   ],
   "id": "ce5226398f21e70e",
   "outputs": [],
   "execution_count": 73
  },
  {
   "metadata": {
    "ExecuteTime": {
     "end_time": "2024-06-27T14:13:52.254759Z",
     "start_time": "2024-06-27T14:13:52.249268Z"
    }
   },
   "cell_type": "code",
   "source": "# relax_math['label']",
   "id": "4b2d5582ccec0bfb",
   "outputs": [
    {
     "data": {
      "text/plain": [
       "13274    1\n",
       "13275    1\n",
       "13276    1\n",
       "13277    1\n",
       "13278    1\n",
       "        ..\n",
       "23828    0\n",
       "23829    0\n",
       "23830    0\n",
       "23831    0\n",
       "23832    0\n",
       "Name: label, Length: 1870, dtype: int64"
      ]
     },
     "execution_count": 74,
     "metadata": {},
     "output_type": "execute_result"
    }
   ],
   "execution_count": 74
  },
  {
   "metadata": {
    "ExecuteTime": {
     "end_time": "2024-06-27T14:14:52.758126Z",
     "start_time": "2024-06-27T14:14:52.736563Z"
    }
   },
   "cell_type": "code",
   "source": [
    "X = relax_math['raw_values']\n",
    "y = relax_math['label']"
   ],
   "id": "144eb81613c4c5ee",
   "outputs": [],
   "execution_count": 75
  },
  {
   "metadata": {
    "ExecuteTime": {
     "end_time": "2024-06-27T14:25:40.980508Z",
     "start_time": "2024-06-27T14:25:40.977671Z"
    }
   },
   "cell_type": "code",
   "source": [
    "print(relax_math.shape)\n",
    "print(X.shape)\n",
    "print(y.shape)\n",
    "print(X.index)\n",
    "print(X[13274].shape)"
   ],
   "id": "49fdd39e1fb6aa41",
   "outputs": [
    {
     "name": "stdout",
     "output_type": "stream",
     "text": [
      "(1870, 13)\n",
      "(1870,)\n",
      "(1870,)\n",
      "Index([13274, 13275, 13276, 13277, 13278, 13279, 13280, 13281, 13282, 13283,\n",
      "       ...\n",
      "       23823, 23824, 23825, 23826, 23827, 23828, 23829, 23830, 23831, 23832],\n",
      "      dtype='int64', length=1870)\n",
      "(512,)\n"
     ]
    }
   ],
   "execution_count": 87
  },
  {
   "metadata": {
    "ExecuteTime": {
     "end_time": "2024-06-27T15:56:35.890089Z",
     "start_time": "2024-06-27T15:56:35.886829Z"
    }
   },
   "cell_type": "code",
   "source": "features_matrix",
   "id": "894e15a5f35baa30",
   "outputs": [
    {
     "data": {
      "text/plain": [
       "array([[285., 241., 200., ...,  32.,  23.,  21.],\n",
       "       [-12., -60., -70., ...,  20.,  19.,  -7.],\n",
       "       [ 37.,  43.,  42., ...,  18.,  13.,  35.],\n",
       "       ...,\n",
       "       [106., 108.,  91., ...,  28.,  42.,  49.],\n",
       "       [ 48.,  37.,  18., ...,  49.,  42.,  26.],\n",
       "       [ 96.,  75.,  64., ...,  71.,  86.,  92.]])"
      ]
     },
     "execution_count": 127,
     "metadata": {},
     "output_type": "execute_result"
    }
   ],
   "execution_count": 127
  },
  {
   "metadata": {
    "ExecuteTime": {
     "end_time": "2024-06-27T15:30:36.836796Z",
     "start_time": "2024-06-27T15:30:36.807882Z"
    }
   },
   "cell_type": "code",
   "source": [
    "# time series model\n",
    "\n",
    "seq_len = 64  # Number of timesteps per sequence\n",
    "feat_dim = 8  # Number of features per timestep\n",
    "output_dim = 2  # Number of output classes\n",
    "\n",
    "model_ts_architecture = zoo['clf_cn'](seq_len, feat_dim, output_dim)\n",
    "model_ts = model_ts_architecture.model\n",
    "\n",
    "model_ts.compile(\n",
    "    optimizer='adam',\n",
    "    loss='sparse_categorical_crossentropy', \n",
    "    metrics=['accuracy']\n",
    ")\n",
    "\n",
    "# Split data\n",
    "X_train, X_val, y_train, y_val = train_test_split(features_matrix, relax_math['label'], test_size=0.2, random_state=42)\n",
    "\n",
    "X_train_ts = X_train.reshape(-1, seq_len, feat_dim) \n",
    "X_val_ts = X_val.reshape(-1, seq_len, feat_dim)"
   ],
   "id": "cae5dc7dddfb509f",
   "outputs": [],
   "execution_count": 111
  },
  {
   "metadata": {
    "ExecuteTime": {
     "end_time": "2024-06-27T15:33:46.131734Z",
     "start_time": "2024-06-27T15:33:44.932048Z"
    }
   },
   "cell_type": "code",
   "source": [
    "# Model training\n",
    "history_ts = model_ts.fit(\n",
    "    X_train_ts, y_train,\n",
    "    epochs=10,\n",
    "    batch_size=32,\n",
    "    validation_data=(X_val_ts, y_val)\n",
    ")"
   ],
   "id": "fdf47499ec99cfdb",
   "outputs": [
    {
     "name": "stdout",
     "output_type": "stream",
     "text": [
      "Epoch 1/10\n",
      "47/47 [==============================] - 0s 3ms/step - loss: 0.6732 - accuracy: 0.5281 - val_loss: 0.6927 - val_accuracy: 0.4893\n",
      "Epoch 2/10\n",
      "47/47 [==============================] - 0s 2ms/step - loss: 0.6667 - accuracy: 0.5441 - val_loss: 0.7107 - val_accuracy: 0.4866\n",
      "Epoch 3/10\n",
      "47/47 [==============================] - 0s 2ms/step - loss: 0.6660 - accuracy: 0.5434 - val_loss: 0.7285 - val_accuracy: 0.4866\n",
      "Epoch 4/10\n",
      "47/47 [==============================] - 0s 2ms/step - loss: 0.6675 - accuracy: 0.5361 - val_loss: 0.7293 - val_accuracy: 0.4893\n",
      "Epoch 5/10\n",
      "47/47 [==============================] - 0s 2ms/step - loss: 0.6558 - accuracy: 0.5468 - val_loss: 0.7199 - val_accuracy: 0.4920\n",
      "Epoch 6/10\n",
      "47/47 [==============================] - 0s 2ms/step - loss: 0.6544 - accuracy: 0.5508 - val_loss: 0.7186 - val_accuracy: 0.4786\n",
      "Epoch 7/10\n",
      "47/47 [==============================] - 0s 2ms/step - loss: 0.6563 - accuracy: 0.5468 - val_loss: 0.7199 - val_accuracy: 0.5000\n",
      "Epoch 8/10\n",
      "47/47 [==============================] - 0s 2ms/step - loss: 0.6379 - accuracy: 0.5608 - val_loss: 0.7766 - val_accuracy: 0.4759\n",
      "Epoch 9/10\n",
      "47/47 [==============================] - 0s 2ms/step - loss: 0.6357 - accuracy: 0.5642 - val_loss: 0.8148 - val_accuracy: 0.4840\n",
      "Epoch 10/10\n",
      "47/47 [==============================] - 0s 2ms/step - loss: 0.6437 - accuracy: 0.5602 - val_loss: 0.7702 - val_accuracy: 0.4973\n"
     ]
    }
   ],
   "execution_count": 120
  },
  {
   "metadata": {
    "ExecuteTime": {
     "end_time": "2024-06-27T15:33:46.164397Z",
     "start_time": "2024-06-27T15:33:46.132832Z"
    }
   },
   "cell_type": "code",
   "source": [
    "val_loss_ts, val_acc_ts = model_ts.evaluate(X_val_ts, y_val)\n",
    "print('val loss in ts model:', val_loss_ts)\n",
    "print(\"val accuracy in ts model:\", val_acc_ts)"
   ],
   "id": "f50b1aa7db9a102d",
   "outputs": [
    {
     "name": "stdout",
     "output_type": "stream",
     "text": [
      "12/12 [==============================] - 0s 760us/step - loss: 0.7702 - accuracy: 0.4973\n",
      "val loss in ts model: 0.7702283263206482\n",
      "val accuracy in ts model: 0.49732619524002075\n"
     ]
    }
   ],
   "execution_count": 121
  },
  {
   "metadata": {
    "ExecuteTime": {
     "end_time": "2024-06-27T15:33:46.177316Z",
     "start_time": "2024-06-27T15:33:46.165245Z"
    }
   },
   "cell_type": "code",
   "source": [
    "model = Sequential([\n",
    "    Dense(10, activation='relu', input_shape=(max_len,)),\n",
    "    Dense(3, activation='softmax')\n",
    "])\n",
    "\n",
    "model.compile(optimizer='adam', \n",
    "              loss='sparse_categorical_crossentropy', \n",
    "              metrics=['accuracy'])"
   ],
   "id": "c7b65afeabf81149",
   "outputs": [],
   "execution_count": 122
  },
  {
   "metadata": {
    "ExecuteTime": {
     "end_time": "2024-06-27T15:33:46.682593Z",
     "start_time": "2024-06-27T15:33:46.178476Z"
    }
   },
   "cell_type": "code",
   "source": [
    "history = model.fit(\n",
    "    X_train, y_train,\n",
    "    epochs=10,\n",
    "    batch_size=32,\n",
    "    validation_data=(X_val, y_val)\n",
    ")"
   ],
   "id": "d3cac661d1539cde",
   "outputs": [
    {
     "name": "stdout",
     "output_type": "stream",
     "text": [
      "Epoch 1/10\n",
      "47/47 [==============================] - 0s 2ms/step - loss: 27.6411 - accuracy: 0.4693 - val_loss: 13.5491 - val_accuracy: 0.4813\n",
      "Epoch 2/10\n",
      "47/47 [==============================] - 0s 760us/step - loss: 8.3371 - accuracy: 0.5087 - val_loss: 7.1260 - val_accuracy: 0.4626\n",
      "Epoch 3/10\n",
      "47/47 [==============================] - 0s 710us/step - loss: 4.5543 - accuracy: 0.5060 - val_loss: 4.3670 - val_accuracy: 0.4759\n",
      "Epoch 4/10\n",
      "47/47 [==============================] - 0s 711us/step - loss: 2.9879 - accuracy: 0.5033 - val_loss: 4.4653 - val_accuracy: 0.4840\n",
      "Epoch 5/10\n",
      "47/47 [==============================] - 0s 718us/step - loss: 2.5126 - accuracy: 0.5080 - val_loss: 4.0888 - val_accuracy: 0.5000\n",
      "Epoch 6/10\n",
      "47/47 [==============================] - 0s 739us/step - loss: 2.0560 - accuracy: 0.5120 - val_loss: 3.8600 - val_accuracy: 0.4893\n",
      "Epoch 7/10\n",
      "47/47 [==============================] - 0s 733us/step - loss: 2.1339 - accuracy: 0.5140 - val_loss: 3.7144 - val_accuracy: 0.5000\n",
      "Epoch 8/10\n",
      "47/47 [==============================] - 0s 750us/step - loss: 1.9127 - accuracy: 0.5154 - val_loss: 3.9637 - val_accuracy: 0.4947\n",
      "Epoch 9/10\n",
      "47/47 [==============================] - 0s 744us/step - loss: 1.3898 - accuracy: 0.5221 - val_loss: 2.7227 - val_accuracy: 0.5053\n",
      "Epoch 10/10\n",
      "47/47 [==============================] - 0s 729us/step - loss: 1.1935 - accuracy: 0.5201 - val_loss: 3.3667 - val_accuracy: 0.5000\n"
     ]
    }
   ],
   "execution_count": 123
  },
  {
   "metadata": {
    "ExecuteTime": {
     "end_time": "2024-06-27T15:33:46.709889Z",
     "start_time": "2024-06-27T15:33:46.683357Z"
    }
   },
   "cell_type": "code",
   "source": [
    "val_loss, val_acc = model.evaluate(X_val, y_val)\n",
    "print('val loss in normal model:', val_loss)\n",
    "print(\"val accuracy in normal model:\", val_acc)"
   ],
   "id": "2a74ef826b85b1bc",
   "outputs": [
    {
     "name": "stdout",
     "output_type": "stream",
     "text": [
      "12/12 [==============================] - 0s 455us/step - loss: 3.3667 - accuracy: 0.5000\n",
      "val loss in normal model: 3.366678237915039\n",
      "val accuracy in normal model: 0.5\n"
     ]
    }
   ],
   "execution_count": 124
  },
  {
   "metadata": {},
   "cell_type": "markdown",
   "source": [
    "# 2. Augmentations\n",
    "augment X and y using GAN"
   ],
   "id": "711b16b767d9d67f"
  },
  {
   "metadata": {
    "ExecuteTime": {
     "end_time": "2024-06-27T16:15:07.499787Z",
     "start_time": "2024-06-27T16:15:07.496546Z"
    }
   },
   "cell_type": "code",
   "source": [
    "feature_dim = 8\n",
    "seq_len = 64\n",
    "batch_size = 128\n",
    "\n",
    "# generator_in_channels = latent_dim + output_dim\n",
    "# discriminator_in_channels = feature_dim + output_dim"
   ],
   "id": "dc729243352e01d8",
   "outputs": [],
   "execution_count": 139
  },
  {
   "metadata": {
    "ExecuteTime": {
     "end_time": "2024-06-27T19:20:34.237328Z",
     "start_time": "2024-06-27T19:20:34.234237Z"
    }
   },
   "cell_type": "code",
   "source": [
    "# adjust its shape to series\n",
    "X_ts = X.reshape(-1, seq_len, feat_dim) \n",
    "X_ts.shape"
   ],
   "id": "2d1eb062a0c94ad1",
   "outputs": [
    {
     "data": {
      "text/plain": [
       "(1870, 64, 8)"
      ]
     },
     "execution_count": 156,
     "metadata": {},
     "output_type": "execute_result"
    }
   ],
   "execution_count": 156
  },
  {
   "metadata": {
    "ExecuteTime": {
     "end_time": "2024-06-27T19:27:28.227897Z",
     "start_time": "2024-06-27T19:27:28.215404Z"
    }
   },
   "cell_type": "code",
   "source": [
    "# scaler = MinMaxScaler(feature_range=(-1, 1))\n",
    "# X = np.stack(relax_math['raw_values'].apply(lambda x: scaler.fit_transform(x.reshape(-1, 1)).flatten()))\n",
    "y = keras.utils.to_categorical(relax_math['label'], num_classes=2)\n",
    "\n",
    "scaler = tsgm.utils.TSFeatureWiseScaler((-1, 1))\n",
    "X_train = scaler.fit_transform(X_ts)\n",
    "\n",
    "X_train = X_train.astype(np.float32)\n",
    "y = y.astype(np.float32)\n",
    "\n",
    "print(X_train.shape)\n",
    "print(y.shape)"
   ],
   "id": "98a7195f063f81bf",
   "outputs": [
    {
     "name": "stdout",
     "output_type": "stream",
     "text": [
      "(1870, 64, 8)\n",
      "(1870, 2)\n"
     ]
    }
   ],
   "execution_count": 170
  },
  {
   "metadata": {
    "ExecuteTime": {
     "end_time": "2024-06-27T19:27:28.855451Z",
     "start_time": "2024-06-27T19:27:28.850230Z"
    }
   },
   "cell_type": "code",
   "source": [
    "dataset = tf.data.Dataset.from_tensor_slices((X_train, y))\n",
    "dataset = dataset.shuffle(buffer_size=1024).batch(batch_size)"
   ],
   "id": "6a9b2bc71b4ba818",
   "outputs": [],
   "execution_count": 171
  },
  {
   "metadata": {
    "ExecuteTime": {
     "end_time": "2024-06-27T19:27:29.535403Z",
     "start_time": "2024-06-27T19:27:29.352740Z"
    }
   },
   "cell_type": "code",
   "source": [
    "latent_dim = 64\n",
    "output_dim = 2\n",
    "\n",
    "architecture = tsgm.models.architectures.zoo[\"cgan_base_c4_l1\"](\n",
    "    seq_len=seq_len, feat_dim=feature_dim,\n",
    "    latent_dim=latent_dim, output_dim=output_dim)\n",
    "discriminator, generator = architecture.discriminator, architecture.generator"
   ],
   "id": "23fcd7bc7eb1a429",
   "outputs": [],
   "execution_count": 172
  },
  {
   "metadata": {
    "ExecuteTime": {
     "end_time": "2024-06-27T19:27:29.717424Z",
     "start_time": "2024-06-27T19:27:29.707180Z"
    }
   },
   "cell_type": "code",
   "source": [
    "cond_gan = tsgm.models.cgan.ConditionalGAN(\n",
    "    discriminator=discriminator, generator=generator, latent_dim=latent_dim\n",
    ")\n",
    "cond_gan.compile(\n",
    "    d_optimizer=keras.optimizers.Adam(learning_rate=0.002, beta_1=0.5),\n",
    "    g_optimizer=keras.optimizers.Adam(learning_rate=0.002, beta_1=0.5),\n",
    "    loss_fn=keras.losses.BinaryCrossentropy(),\n",
    ")"
   ],
   "id": "deaffcb0749659bc",
   "outputs": [
    {
     "name": "stderr",
     "output_type": "stream",
     "text": [
      "WARNING:absl:At this time, the v2.11+ optimizer `tf.keras.optimizers.Adam` runs slowly on M1/M2 Macs, please use the legacy Keras optimizer instead, located at `tf.keras.optimizers.legacy.Adam`.\n",
      "WARNING:absl:At this time, the v2.11+ optimizer `tf.keras.optimizers.Adam` runs slowly on M1/M2 Macs, please use the legacy Keras optimizer instead, located at `tf.keras.optimizers.legacy.Adam`.\n"
     ]
    }
   ],
   "execution_count": 173
  },
  {
   "metadata": {
    "ExecuteTime": {
     "end_time": "2024-06-27T19:27:50.812764Z",
     "start_time": "2024-06-27T19:27:30.203404Z"
    }
   },
   "cell_type": "code",
   "source": [
    "cbk = tsgm.models.monitors.GANMonitor(num_samples=3, latent_dim=latent_dim, save=False, labels=y, save_path=\"/tmp\")\n",
    "cond_gan.fit(dataset, epochs=1000, callbacks=[cbk])"
   ],
   "id": "c3481a532fd2d7f7",
   "outputs": [
    {
     "name": "stderr",
     "output_type": "stream",
     "text": [
      "WARNING:monitors:save_path is specified, but save is False.\n"
     ]
    },
    {
     "name": "stdout",
     "output_type": "stream",
     "text": [
      "Epoch 1/1000\n",
      " 7/15 [=============>................] - ETA: 18s - g_loss: 0.7600 - d_loss: 0.7387"
     ]
    },
    {
     "ename": "KeyboardInterrupt",
     "evalue": "",
     "output_type": "error",
     "traceback": [
      "\u001B[0;31m---------------------------------------------------------------------------\u001B[0m",
      "\u001B[0;31mKeyboardInterrupt\u001B[0m                         Traceback (most recent call last)",
      "Cell \u001B[0;32mIn[174], line 2\u001B[0m\n\u001B[1;32m      1\u001B[0m cbk \u001B[38;5;241m=\u001B[39m tsgm\u001B[38;5;241m.\u001B[39mmodels\u001B[38;5;241m.\u001B[39mmonitors\u001B[38;5;241m.\u001B[39mGANMonitor(num_samples\u001B[38;5;241m=\u001B[39m\u001B[38;5;241m3\u001B[39m, latent_dim\u001B[38;5;241m=\u001B[39mlatent_dim, save\u001B[38;5;241m=\u001B[39m\u001B[38;5;28;01mFalse\u001B[39;00m, labels\u001B[38;5;241m=\u001B[39my, save_path\u001B[38;5;241m=\u001B[39m\u001B[38;5;124m\"\u001B[39m\u001B[38;5;124m/tmp\u001B[39m\u001B[38;5;124m\"\u001B[39m)\n\u001B[0;32m----> 2\u001B[0m \u001B[43mcond_gan\u001B[49m\u001B[38;5;241;43m.\u001B[39;49m\u001B[43mfit\u001B[49m\u001B[43m(\u001B[49m\u001B[43mdataset\u001B[49m\u001B[43m,\u001B[49m\u001B[43m \u001B[49m\u001B[43mepochs\u001B[49m\u001B[38;5;241;43m=\u001B[39;49m\u001B[38;5;241;43m1000\u001B[39;49m\u001B[43m,\u001B[49m\u001B[43m \u001B[49m\u001B[43mcallbacks\u001B[49m\u001B[38;5;241;43m=\u001B[39;49m\u001B[43m[\u001B[49m\u001B[43mcbk\u001B[49m\u001B[43m]\u001B[49m\u001B[43m)\u001B[49m\n",
      "File \u001B[0;32m~/PycharmProjects/BayesianWF/env/lib/python3.9/site-packages/keras/src/utils/traceback_utils.py:65\u001B[0m, in \u001B[0;36mfilter_traceback.<locals>.error_handler\u001B[0;34m(*args, **kwargs)\u001B[0m\n\u001B[1;32m     63\u001B[0m filtered_tb \u001B[38;5;241m=\u001B[39m \u001B[38;5;28;01mNone\u001B[39;00m\n\u001B[1;32m     64\u001B[0m \u001B[38;5;28;01mtry\u001B[39;00m:\n\u001B[0;32m---> 65\u001B[0m     \u001B[38;5;28;01mreturn\u001B[39;00m \u001B[43mfn\u001B[49m\u001B[43m(\u001B[49m\u001B[38;5;241;43m*\u001B[39;49m\u001B[43margs\u001B[49m\u001B[43m,\u001B[49m\u001B[43m \u001B[49m\u001B[38;5;241;43m*\u001B[39;49m\u001B[38;5;241;43m*\u001B[39;49m\u001B[43mkwargs\u001B[49m\u001B[43m)\u001B[49m\n\u001B[1;32m     66\u001B[0m \u001B[38;5;28;01mexcept\u001B[39;00m \u001B[38;5;167;01mException\u001B[39;00m \u001B[38;5;28;01mas\u001B[39;00m e:\n\u001B[1;32m     67\u001B[0m     filtered_tb \u001B[38;5;241m=\u001B[39m _process_traceback_frames(e\u001B[38;5;241m.\u001B[39m__traceback__)\n",
      "File \u001B[0;32m~/PycharmProjects/BayesianWF/env/lib/python3.9/site-packages/keras/src/engine/training.py:1807\u001B[0m, in \u001B[0;36mModel.fit\u001B[0;34m(self, x, y, batch_size, epochs, verbose, callbacks, validation_split, validation_data, shuffle, class_weight, sample_weight, initial_epoch, steps_per_epoch, validation_steps, validation_batch_size, validation_freq, max_queue_size, workers, use_multiprocessing)\u001B[0m\n\u001B[1;32m   1799\u001B[0m \u001B[38;5;28;01mwith\u001B[39;00m tf\u001B[38;5;241m.\u001B[39mprofiler\u001B[38;5;241m.\u001B[39mexperimental\u001B[38;5;241m.\u001B[39mTrace(\n\u001B[1;32m   1800\u001B[0m     \u001B[38;5;124m\"\u001B[39m\u001B[38;5;124mtrain\u001B[39m\u001B[38;5;124m\"\u001B[39m,\n\u001B[1;32m   1801\u001B[0m     epoch_num\u001B[38;5;241m=\u001B[39mepoch,\n\u001B[0;32m   (...)\u001B[0m\n\u001B[1;32m   1804\u001B[0m     _r\u001B[38;5;241m=\u001B[39m\u001B[38;5;241m1\u001B[39m,\n\u001B[1;32m   1805\u001B[0m ):\n\u001B[1;32m   1806\u001B[0m     callbacks\u001B[38;5;241m.\u001B[39mon_train_batch_begin(step)\n\u001B[0;32m-> 1807\u001B[0m     tmp_logs \u001B[38;5;241m=\u001B[39m \u001B[38;5;28;43mself\u001B[39;49m\u001B[38;5;241;43m.\u001B[39;49m\u001B[43mtrain_function\u001B[49m\u001B[43m(\u001B[49m\u001B[43miterator\u001B[49m\u001B[43m)\u001B[49m\n\u001B[1;32m   1808\u001B[0m     \u001B[38;5;28;01mif\u001B[39;00m data_handler\u001B[38;5;241m.\u001B[39mshould_sync:\n\u001B[1;32m   1809\u001B[0m         context\u001B[38;5;241m.\u001B[39masync_wait()\n",
      "File \u001B[0;32m~/PycharmProjects/BayesianWF/env/lib/python3.9/site-packages/tensorflow/python/util/traceback_utils.py:150\u001B[0m, in \u001B[0;36mfilter_traceback.<locals>.error_handler\u001B[0;34m(*args, **kwargs)\u001B[0m\n\u001B[1;32m    148\u001B[0m filtered_tb \u001B[38;5;241m=\u001B[39m \u001B[38;5;28;01mNone\u001B[39;00m\n\u001B[1;32m    149\u001B[0m \u001B[38;5;28;01mtry\u001B[39;00m:\n\u001B[0;32m--> 150\u001B[0m   \u001B[38;5;28;01mreturn\u001B[39;00m \u001B[43mfn\u001B[49m\u001B[43m(\u001B[49m\u001B[38;5;241;43m*\u001B[39;49m\u001B[43margs\u001B[49m\u001B[43m,\u001B[49m\u001B[43m \u001B[49m\u001B[38;5;241;43m*\u001B[39;49m\u001B[38;5;241;43m*\u001B[39;49m\u001B[43mkwargs\u001B[49m\u001B[43m)\u001B[49m\n\u001B[1;32m    151\u001B[0m \u001B[38;5;28;01mexcept\u001B[39;00m \u001B[38;5;167;01mException\u001B[39;00m \u001B[38;5;28;01mas\u001B[39;00m e:\n\u001B[1;32m    152\u001B[0m   filtered_tb \u001B[38;5;241m=\u001B[39m _process_traceback_frames(e\u001B[38;5;241m.\u001B[39m__traceback__)\n",
      "File \u001B[0;32m~/PycharmProjects/BayesianWF/env/lib/python3.9/site-packages/tensorflow/python/eager/polymorphic_function/polymorphic_function.py:832\u001B[0m, in \u001B[0;36mFunction.__call__\u001B[0;34m(self, *args, **kwds)\u001B[0m\n\u001B[1;32m    829\u001B[0m compiler \u001B[38;5;241m=\u001B[39m \u001B[38;5;124m\"\u001B[39m\u001B[38;5;124mxla\u001B[39m\u001B[38;5;124m\"\u001B[39m \u001B[38;5;28;01mif\u001B[39;00m \u001B[38;5;28mself\u001B[39m\u001B[38;5;241m.\u001B[39m_jit_compile \u001B[38;5;28;01melse\u001B[39;00m \u001B[38;5;124m\"\u001B[39m\u001B[38;5;124mnonXla\u001B[39m\u001B[38;5;124m\"\u001B[39m\n\u001B[1;32m    831\u001B[0m \u001B[38;5;28;01mwith\u001B[39;00m OptionalXlaContext(\u001B[38;5;28mself\u001B[39m\u001B[38;5;241m.\u001B[39m_jit_compile):\n\u001B[0;32m--> 832\u001B[0m   result \u001B[38;5;241m=\u001B[39m \u001B[38;5;28;43mself\u001B[39;49m\u001B[38;5;241;43m.\u001B[39;49m\u001B[43m_call\u001B[49m\u001B[43m(\u001B[49m\u001B[38;5;241;43m*\u001B[39;49m\u001B[43margs\u001B[49m\u001B[43m,\u001B[49m\u001B[43m \u001B[49m\u001B[38;5;241;43m*\u001B[39;49m\u001B[38;5;241;43m*\u001B[39;49m\u001B[43mkwds\u001B[49m\u001B[43m)\u001B[49m\n\u001B[1;32m    834\u001B[0m new_tracing_count \u001B[38;5;241m=\u001B[39m \u001B[38;5;28mself\u001B[39m\u001B[38;5;241m.\u001B[39mexperimental_get_tracing_count()\n\u001B[1;32m    835\u001B[0m without_tracing \u001B[38;5;241m=\u001B[39m (tracing_count \u001B[38;5;241m==\u001B[39m new_tracing_count)\n",
      "File \u001B[0;32m~/PycharmProjects/BayesianWF/env/lib/python3.9/site-packages/tensorflow/python/eager/polymorphic_function/polymorphic_function.py:868\u001B[0m, in \u001B[0;36mFunction._call\u001B[0;34m(self, *args, **kwds)\u001B[0m\n\u001B[1;32m    865\u001B[0m   \u001B[38;5;28mself\u001B[39m\u001B[38;5;241m.\u001B[39m_lock\u001B[38;5;241m.\u001B[39mrelease()\n\u001B[1;32m    866\u001B[0m   \u001B[38;5;66;03m# In this case we have created variables on the first call, so we run the\u001B[39;00m\n\u001B[1;32m    867\u001B[0m   \u001B[38;5;66;03m# defunned version which is guaranteed to never create variables.\u001B[39;00m\n\u001B[0;32m--> 868\u001B[0m   \u001B[38;5;28;01mreturn\u001B[39;00m \u001B[43mtracing_compilation\u001B[49m\u001B[38;5;241;43m.\u001B[39;49m\u001B[43mcall_function\u001B[49m\u001B[43m(\u001B[49m\n\u001B[1;32m    869\u001B[0m \u001B[43m      \u001B[49m\u001B[43margs\u001B[49m\u001B[43m,\u001B[49m\u001B[43m \u001B[49m\u001B[43mkwds\u001B[49m\u001B[43m,\u001B[49m\u001B[43m \u001B[49m\u001B[38;5;28;43mself\u001B[39;49m\u001B[38;5;241;43m.\u001B[39;49m\u001B[43m_no_variable_creation_config\u001B[49m\n\u001B[1;32m    870\u001B[0m \u001B[43m  \u001B[49m\u001B[43m)\u001B[49m\n\u001B[1;32m    871\u001B[0m \u001B[38;5;28;01melif\u001B[39;00m \u001B[38;5;28mself\u001B[39m\u001B[38;5;241m.\u001B[39m_variable_creation_config \u001B[38;5;129;01mis\u001B[39;00m \u001B[38;5;129;01mnot\u001B[39;00m \u001B[38;5;28;01mNone\u001B[39;00m:\n\u001B[1;32m    872\u001B[0m   \u001B[38;5;66;03m# Release the lock early so that multiple threads can perform the call\u001B[39;00m\n\u001B[1;32m    873\u001B[0m   \u001B[38;5;66;03m# in parallel.\u001B[39;00m\n\u001B[1;32m    874\u001B[0m   \u001B[38;5;28mself\u001B[39m\u001B[38;5;241m.\u001B[39m_lock\u001B[38;5;241m.\u001B[39mrelease()\n",
      "File \u001B[0;32m~/PycharmProjects/BayesianWF/env/lib/python3.9/site-packages/tensorflow/python/eager/polymorphic_function/tracing_compilation.py:139\u001B[0m, in \u001B[0;36mcall_function\u001B[0;34m(args, kwargs, tracing_options)\u001B[0m\n\u001B[1;32m    137\u001B[0m bound_args \u001B[38;5;241m=\u001B[39m function\u001B[38;5;241m.\u001B[39mfunction_type\u001B[38;5;241m.\u001B[39mbind(\u001B[38;5;241m*\u001B[39margs, \u001B[38;5;241m*\u001B[39m\u001B[38;5;241m*\u001B[39mkwargs)\n\u001B[1;32m    138\u001B[0m flat_inputs \u001B[38;5;241m=\u001B[39m function\u001B[38;5;241m.\u001B[39mfunction_type\u001B[38;5;241m.\u001B[39munpack_inputs(bound_args)\n\u001B[0;32m--> 139\u001B[0m \u001B[38;5;28;01mreturn\u001B[39;00m \u001B[43mfunction\u001B[49m\u001B[38;5;241;43m.\u001B[39;49m\u001B[43m_call_flat\u001B[49m\u001B[43m(\u001B[49m\u001B[43m  \u001B[49m\u001B[38;5;66;43;03m# pylint: disable=protected-access\u001B[39;49;00m\n\u001B[1;32m    140\u001B[0m \u001B[43m    \u001B[49m\u001B[43mflat_inputs\u001B[49m\u001B[43m,\u001B[49m\u001B[43m \u001B[49m\u001B[43mcaptured_inputs\u001B[49m\u001B[38;5;241;43m=\u001B[39;49m\u001B[43mfunction\u001B[49m\u001B[38;5;241;43m.\u001B[39;49m\u001B[43mcaptured_inputs\u001B[49m\n\u001B[1;32m    141\u001B[0m \u001B[43m\u001B[49m\u001B[43m)\u001B[49m\n",
      "File \u001B[0;32m~/PycharmProjects/BayesianWF/env/lib/python3.9/site-packages/tensorflow/python/eager/polymorphic_function/concrete_function.py:1323\u001B[0m, in \u001B[0;36mConcreteFunction._call_flat\u001B[0;34m(self, tensor_inputs, captured_inputs)\u001B[0m\n\u001B[1;32m   1319\u001B[0m possible_gradient_type \u001B[38;5;241m=\u001B[39m gradients_util\u001B[38;5;241m.\u001B[39mPossibleTapeGradientTypes(args)\n\u001B[1;32m   1320\u001B[0m \u001B[38;5;28;01mif\u001B[39;00m (possible_gradient_type \u001B[38;5;241m==\u001B[39m gradients_util\u001B[38;5;241m.\u001B[39mPOSSIBLE_GRADIENT_TYPES_NONE\n\u001B[1;32m   1321\u001B[0m     \u001B[38;5;129;01mand\u001B[39;00m executing_eagerly):\n\u001B[1;32m   1322\u001B[0m   \u001B[38;5;66;03m# No tape is watching; skip to running the function.\u001B[39;00m\n\u001B[0;32m-> 1323\u001B[0m   \u001B[38;5;28;01mreturn\u001B[39;00m \u001B[38;5;28;43mself\u001B[39;49m\u001B[38;5;241;43m.\u001B[39;49m\u001B[43m_inference_function\u001B[49m\u001B[38;5;241;43m.\u001B[39;49m\u001B[43mcall_preflattened\u001B[49m\u001B[43m(\u001B[49m\u001B[43margs\u001B[49m\u001B[43m)\u001B[49m\n\u001B[1;32m   1324\u001B[0m forward_backward \u001B[38;5;241m=\u001B[39m \u001B[38;5;28mself\u001B[39m\u001B[38;5;241m.\u001B[39m_select_forward_and_backward_functions(\n\u001B[1;32m   1325\u001B[0m     args,\n\u001B[1;32m   1326\u001B[0m     possible_gradient_type,\n\u001B[1;32m   1327\u001B[0m     executing_eagerly)\n\u001B[1;32m   1328\u001B[0m forward_function, args_with_tangents \u001B[38;5;241m=\u001B[39m forward_backward\u001B[38;5;241m.\u001B[39mforward()\n",
      "File \u001B[0;32m~/PycharmProjects/BayesianWF/env/lib/python3.9/site-packages/tensorflow/python/eager/polymorphic_function/atomic_function.py:216\u001B[0m, in \u001B[0;36mAtomicFunction.call_preflattened\u001B[0;34m(self, args)\u001B[0m\n\u001B[1;32m    214\u001B[0m \u001B[38;5;28;01mdef\u001B[39;00m \u001B[38;5;21mcall_preflattened\u001B[39m(\u001B[38;5;28mself\u001B[39m, args: Sequence[core\u001B[38;5;241m.\u001B[39mTensor]) \u001B[38;5;241m-\u001B[39m\u001B[38;5;241m>\u001B[39m Any:\n\u001B[1;32m    215\u001B[0m \u001B[38;5;250m  \u001B[39m\u001B[38;5;124;03m\"\"\"Calls with flattened tensor inputs and returns the structured output.\"\"\"\u001B[39;00m\n\u001B[0;32m--> 216\u001B[0m   flat_outputs \u001B[38;5;241m=\u001B[39m \u001B[38;5;28;43mself\u001B[39;49m\u001B[38;5;241;43m.\u001B[39;49m\u001B[43mcall_flat\u001B[49m\u001B[43m(\u001B[49m\u001B[38;5;241;43m*\u001B[39;49m\u001B[43margs\u001B[49m\u001B[43m)\u001B[49m\n\u001B[1;32m    217\u001B[0m   \u001B[38;5;28;01mreturn\u001B[39;00m \u001B[38;5;28mself\u001B[39m\u001B[38;5;241m.\u001B[39mfunction_type\u001B[38;5;241m.\u001B[39mpack_output(flat_outputs)\n",
      "File \u001B[0;32m~/PycharmProjects/BayesianWF/env/lib/python3.9/site-packages/tensorflow/python/eager/polymorphic_function/atomic_function.py:251\u001B[0m, in \u001B[0;36mAtomicFunction.call_flat\u001B[0;34m(self, *args)\u001B[0m\n\u001B[1;32m    249\u001B[0m \u001B[38;5;28;01mwith\u001B[39;00m record\u001B[38;5;241m.\u001B[39mstop_recording():\n\u001B[1;32m    250\u001B[0m   \u001B[38;5;28;01mif\u001B[39;00m \u001B[38;5;28mself\u001B[39m\u001B[38;5;241m.\u001B[39m_bound_context\u001B[38;5;241m.\u001B[39mexecuting_eagerly():\n\u001B[0;32m--> 251\u001B[0m     outputs \u001B[38;5;241m=\u001B[39m \u001B[38;5;28;43mself\u001B[39;49m\u001B[38;5;241;43m.\u001B[39;49m\u001B[43m_bound_context\u001B[49m\u001B[38;5;241;43m.\u001B[39;49m\u001B[43mcall_function\u001B[49m\u001B[43m(\u001B[49m\n\u001B[1;32m    252\u001B[0m \u001B[43m        \u001B[49m\u001B[38;5;28;43mself\u001B[39;49m\u001B[38;5;241;43m.\u001B[39;49m\u001B[43mname\u001B[49m\u001B[43m,\u001B[49m\n\u001B[1;32m    253\u001B[0m \u001B[43m        \u001B[49m\u001B[38;5;28;43mlist\u001B[39;49m\u001B[43m(\u001B[49m\u001B[43margs\u001B[49m\u001B[43m)\u001B[49m\u001B[43m,\u001B[49m\n\u001B[1;32m    254\u001B[0m \u001B[43m        \u001B[49m\u001B[38;5;28;43mlen\u001B[39;49m\u001B[43m(\u001B[49m\u001B[38;5;28;43mself\u001B[39;49m\u001B[38;5;241;43m.\u001B[39;49m\u001B[43mfunction_type\u001B[49m\u001B[38;5;241;43m.\u001B[39;49m\u001B[43mflat_outputs\u001B[49m\u001B[43m)\u001B[49m\u001B[43m,\u001B[49m\n\u001B[1;32m    255\u001B[0m \u001B[43m    \u001B[49m\u001B[43m)\u001B[49m\n\u001B[1;32m    256\u001B[0m   \u001B[38;5;28;01melse\u001B[39;00m:\n\u001B[1;32m    257\u001B[0m     outputs \u001B[38;5;241m=\u001B[39m make_call_op_in_graph(\n\u001B[1;32m    258\u001B[0m         \u001B[38;5;28mself\u001B[39m,\n\u001B[1;32m    259\u001B[0m         \u001B[38;5;28mlist\u001B[39m(args),\n\u001B[1;32m    260\u001B[0m         \u001B[38;5;28mself\u001B[39m\u001B[38;5;241m.\u001B[39m_bound_context\u001B[38;5;241m.\u001B[39mfunction_call_options\u001B[38;5;241m.\u001B[39mas_attrs(),\n\u001B[1;32m    261\u001B[0m     )\n",
      "File \u001B[0;32m~/PycharmProjects/BayesianWF/env/lib/python3.9/site-packages/tensorflow/python/eager/context.py:1486\u001B[0m, in \u001B[0;36mContext.call_function\u001B[0;34m(self, name, tensor_inputs, num_outputs)\u001B[0m\n\u001B[1;32m   1484\u001B[0m cancellation_context \u001B[38;5;241m=\u001B[39m cancellation\u001B[38;5;241m.\u001B[39mcontext()\n\u001B[1;32m   1485\u001B[0m \u001B[38;5;28;01mif\u001B[39;00m cancellation_context \u001B[38;5;129;01mis\u001B[39;00m \u001B[38;5;28;01mNone\u001B[39;00m:\n\u001B[0;32m-> 1486\u001B[0m   outputs \u001B[38;5;241m=\u001B[39m \u001B[43mexecute\u001B[49m\u001B[38;5;241;43m.\u001B[39;49m\u001B[43mexecute\u001B[49m\u001B[43m(\u001B[49m\n\u001B[1;32m   1487\u001B[0m \u001B[43m      \u001B[49m\u001B[43mname\u001B[49m\u001B[38;5;241;43m.\u001B[39;49m\u001B[43mdecode\u001B[49m\u001B[43m(\u001B[49m\u001B[38;5;124;43m\"\u001B[39;49m\u001B[38;5;124;43mutf-8\u001B[39;49m\u001B[38;5;124;43m\"\u001B[39;49m\u001B[43m)\u001B[49m\u001B[43m,\u001B[49m\n\u001B[1;32m   1488\u001B[0m \u001B[43m      \u001B[49m\u001B[43mnum_outputs\u001B[49m\u001B[38;5;241;43m=\u001B[39;49m\u001B[43mnum_outputs\u001B[49m\u001B[43m,\u001B[49m\n\u001B[1;32m   1489\u001B[0m \u001B[43m      \u001B[49m\u001B[43minputs\u001B[49m\u001B[38;5;241;43m=\u001B[39;49m\u001B[43mtensor_inputs\u001B[49m\u001B[43m,\u001B[49m\n\u001B[1;32m   1490\u001B[0m \u001B[43m      \u001B[49m\u001B[43mattrs\u001B[49m\u001B[38;5;241;43m=\u001B[39;49m\u001B[43mattrs\u001B[49m\u001B[43m,\u001B[49m\n\u001B[1;32m   1491\u001B[0m \u001B[43m      \u001B[49m\u001B[43mctx\u001B[49m\u001B[38;5;241;43m=\u001B[39;49m\u001B[38;5;28;43mself\u001B[39;49m\u001B[43m,\u001B[49m\n\u001B[1;32m   1492\u001B[0m \u001B[43m  \u001B[49m\u001B[43m)\u001B[49m\n\u001B[1;32m   1493\u001B[0m \u001B[38;5;28;01melse\u001B[39;00m:\n\u001B[1;32m   1494\u001B[0m   outputs \u001B[38;5;241m=\u001B[39m execute\u001B[38;5;241m.\u001B[39mexecute_with_cancellation(\n\u001B[1;32m   1495\u001B[0m       name\u001B[38;5;241m.\u001B[39mdecode(\u001B[38;5;124m\"\u001B[39m\u001B[38;5;124mutf-8\u001B[39m\u001B[38;5;124m\"\u001B[39m),\n\u001B[1;32m   1496\u001B[0m       num_outputs\u001B[38;5;241m=\u001B[39mnum_outputs,\n\u001B[0;32m   (...)\u001B[0m\n\u001B[1;32m   1500\u001B[0m       cancellation_manager\u001B[38;5;241m=\u001B[39mcancellation_context,\n\u001B[1;32m   1501\u001B[0m   )\n",
      "File \u001B[0;32m~/PycharmProjects/BayesianWF/env/lib/python3.9/site-packages/tensorflow/python/eager/execute.py:53\u001B[0m, in \u001B[0;36mquick_execute\u001B[0;34m(op_name, num_outputs, inputs, attrs, ctx, name)\u001B[0m\n\u001B[1;32m     51\u001B[0m \u001B[38;5;28;01mtry\u001B[39;00m:\n\u001B[1;32m     52\u001B[0m   ctx\u001B[38;5;241m.\u001B[39mensure_initialized()\n\u001B[0;32m---> 53\u001B[0m   tensors \u001B[38;5;241m=\u001B[39m \u001B[43mpywrap_tfe\u001B[49m\u001B[38;5;241;43m.\u001B[39;49m\u001B[43mTFE_Py_Execute\u001B[49m\u001B[43m(\u001B[49m\u001B[43mctx\u001B[49m\u001B[38;5;241;43m.\u001B[39;49m\u001B[43m_handle\u001B[49m\u001B[43m,\u001B[49m\u001B[43m \u001B[49m\u001B[43mdevice_name\u001B[49m\u001B[43m,\u001B[49m\u001B[43m \u001B[49m\u001B[43mop_name\u001B[49m\u001B[43m,\u001B[49m\n\u001B[1;32m     54\u001B[0m \u001B[43m                                      \u001B[49m\u001B[43minputs\u001B[49m\u001B[43m,\u001B[49m\u001B[43m \u001B[49m\u001B[43mattrs\u001B[49m\u001B[43m,\u001B[49m\u001B[43m \u001B[49m\u001B[43mnum_outputs\u001B[49m\u001B[43m)\u001B[49m\n\u001B[1;32m     55\u001B[0m \u001B[38;5;28;01mexcept\u001B[39;00m core\u001B[38;5;241m.\u001B[39m_NotOkStatusException \u001B[38;5;28;01mas\u001B[39;00m e:\n\u001B[1;32m     56\u001B[0m   \u001B[38;5;28;01mif\u001B[39;00m name \u001B[38;5;129;01mis\u001B[39;00m \u001B[38;5;129;01mnot\u001B[39;00m \u001B[38;5;28;01mNone\u001B[39;00m:\n",
      "\u001B[0;31mKeyboardInterrupt\u001B[0m: "
     ]
    }
   ],
   "execution_count": 174
  },
  {
   "metadata": {},
   "cell_type": "code",
   "outputs": [],
   "execution_count": null,
   "source": "",
   "id": "fd686b0472300a9f"
  }
 ],
 "metadata": {
  "kernelspec": {
   "display_name": "Python (env)",
   "language": "python",
   "name": "env"
  },
  "language_info": {
   "codemirror_mode": {
    "name": "ipython",
    "version": 2
   },
   "file_extension": ".py",
   "mimetype": "text/x-python",
   "name": "python",
   "nbconvert_exporter": "python",
   "pygments_lexer": "ipython2",
   "version": "2.7.6"
  }
 },
 "nbformat": 4,
 "nbformat_minor": 5
}
