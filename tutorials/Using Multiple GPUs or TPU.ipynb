{
 "cells": [
  {
   "cell_type": "code",
   "execution_count": null,
   "id": "70978ddc",
   "metadata": {},
   "outputs": [],
   "source": [
    "#import functools\n",
    "import numpy as np\n",
    "\n",
    "from tensorflow import keras\n",
    "#from tensorflow.keras import layers\n",
    "\n",
    "import tensorflow as tf\n",
    "\n",
    "import tsgm\n",
    "\n",
    "import matplotlib.pyplot as plt"
   ]
  },
  {
   "cell_type": "code",
   "execution_count": null,
   "id": "03616075",
   "metadata": {},
   "outputs": [],
   "source": [
    "latent_dim = 64\n",
    "output_dim = 2\n",
    "feature_dim = 1\n",
    "seq_len = 100\n",
    "batch_size = 128\n",
    "\n",
    "\n",
    "generator_in_channels = latent_dim + output_dim\n",
    "discriminator_in_channels = feature_dim + output_dim"
   ]
  },
  {
   "cell_type": "code",
   "execution_count": null,
   "id": "4db04f2b",
   "metadata": {},
   "outputs": [],
   "source": [
    "X, y_i = tsgm.utils.gen_sine_vs_const_dataset(5000, seq_len, 1, max_value=20, const=10)\n",
    "\n",
    "scaler = tsgm.utils.TSFeatureWiseScaler((-1, 1))\n",
    "X_train = scaler.fit_transform(X)\n",
    "y = keras.utils.to_categorical(y_i, 2)\n",
    "\n",
    "X_train = X_train.astype(np.float32)\n",
    "y = y.astype(np.float32)\n",
    "\n",
    "dataset = tf.data.Dataset.from_tensor_slices((X_train, y))\n",
    "dataset = dataset.shuffle(buffer_size=1024).batch(batch_size)"
   ]
  },
  {
   "cell_type": "markdown",
   "id": "183149ee",
   "metadata": {},
   "source": [
    "## Running on a TPU\n",
    "First, define a distributed strategy"
   ]
  },
  {
   "cell_type": "code",
   "execution_count": null,
   "id": "a47b0fa6",
   "metadata": {},
   "outputs": [],
   "source": [
    "tpu = tf.distribute.cluster_resolver.TPUClusterResolver()\n",
    "print('Running on TPU ', tpu.cluster_spec().as_dict()['worker'])\n",
    "\n",
    "tf.config.experimental_connect_to_cluster(tpu)\n",
    "tf.tpu.experimental.initialize_tpu_system(tpu)\n",
    "strategy = tf.distribute.experimental.TPUStrategy(tpu)\n",
    "\n",
    "print(\"REPLICAS: \", strategy.num_replicas_in_sync)"
   ]
  },
  {
   "cell_type": "markdown",
   "id": "aa6dde5e",
   "metadata": {},
   "source": [
    "Define model inside the strategy scope:"
   ]
  },
  {
   "cell_type": "code",
   "execution_count": null,
   "id": "40de6a48",
   "metadata": {},
   "outputs": [],
   "source": [
    "with strategy.scope():\n",
    "    dataset = tf.data.Dataset.from_tensor_slices((X_train, y))\n",
    "    dataset = dataset.shuffle(buffer_size=1024).batch(batch_size)\n",
    "    architecture = tsgm.models.architectures.zoo[\"cgan_base_c4_l1\"](\n",
    "      seq_len=seq_len, feat_dim=feature_dim,\n",
    "      latent_dim=latent_dim, output_dim=output_dim)\n",
    "    discriminator, generator = architecture.discriminator, architecture.generator\n",
    "\n",
    "    cond_gan = tsgm.models.cgan.ConditionalGAN(\n",
    "      discriminator=discriminator, generator=generator, latent_dim=latent_dim\n",
    "    )\n",
    "    cond_gan.compile(\n",
    "      d_optimizer=keras.optimizers.Adam(learning_rate=0.0002, beta_1=0.5),\n",
    "      g_optimizer=keras.optimizers.Adam(learning_rate=0.0002, beta_1=0.5),\n",
    "      loss_fn=keras.losses.BinaryCrossentropy(reduction=tf.keras.losses.Reduction.NONE),\n",
    "    )"
   ]
  },
  {
   "cell_type": "markdown",
   "id": "a79a3257",
   "metadata": {},
   "source": [
    "Train the model"
   ]
  },
  {
   "cell_type": "code",
   "execution_count": null,
   "id": "40f1fa3a",
   "metadata": {},
   "outputs": [],
   "source": [
    "%%time\n",
    "cond_gan.fit(dataset, epochs=2)"
   ]
  }
 ],
 "metadata": {
  "kernelspec": {
   "display_name": "Python 3 (ipykernel)",
   "language": "python",
   "name": "python3"
  },
  "language_info": {
   "codemirror_mode": {
    "name": "ipython",
    "version": 3
   },
   "file_extension": ".py",
   "mimetype": "text/x-python",
   "name": "python",
   "nbconvert_exporter": "python",
   "pygments_lexer": "ipython3",
   "version": "3.9.12"
  }
 },
 "nbformat": 4,
 "nbformat_minor": 5
}
